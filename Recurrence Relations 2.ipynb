{
 "cells": [
  {
   "cell_type": "code",
   "execution_count": 29,
   "metadata": {},
   "outputs": [
    {
     "name": "stdout",
     "output_type": "stream",
     "text": [
      "118581\n"
     ]
    }
   ],
   "source": [
    "def rec(n):\n",
    "    if(n==0):\n",
    "        return -2\n",
    "    elif(n==1):\n",
    "        return 0\n",
    "    elif(n==2):\n",
    "        return 5\n",
    "    else:\n",
    "        return 7*(rec(n-1))-16*(rec(n-2))+12*(rec(n-3))+n*(4**n)\n",
    "print(rec(6))    "
   ]
  },
  {
   "cell_type": "code",
   "execution_count": 97,
   "metadata": {},
   "outputs": [],
   "source": [
    "#In each stage, every second person still left alive is eliminated until only one survives.\n",
    "\n",
    "def josephusCircle(n):\n",
    "    if(n==0):\n",
    "        return 0\n",
    "    #print(n)\n",
    "    rebels = list(range(n))\n",
    "    #print(rebels)\n",
    "    i = 1\n",
    "    count = 0\n",
    "    #while more than one person remains\n",
    "    while count<(n-1):\n",
    "        #print(i,rebels,len(rebels))\n",
    "        del rebels[i]\n",
    "        #print(i,rebels,len(rebels))\n",
    "        count = count+1\n",
    "        #print(count,n,rebels)\n",
    "        if(i==len(rebels)-1):\n",
    "            i=0\n",
    "            continue\n",
    "        if(i==len(rebels)):\n",
    "            i=1\n",
    "            continue\n",
    "        else:\n",
    "            i = i+1\n",
    "            continue\n",
    "    #print(rebels)\n",
    "    return (rebels[0]+1)\n",
    "    \n",
    "\n"
   ]
  },
  {
   "cell_type": "code",
   "execution_count": 98,
   "metadata": {},
   "outputs": [
    {
     "name": "stdout",
     "output_type": "stream",
     "text": [
      "5\n"
     ]
    }
   ],
   "source": [
    "print(josephusCircle(10))"
   ]
  },
  {
   "cell_type": "code",
   "execution_count": 101,
   "metadata": {},
   "outputs": [
    {
     "name": "stdout",
     "output_type": "stream",
     "text": [
      "0\n",
      "1\n",
      "1\n",
      "3\n",
      "1\n",
      "3\n",
      "5\n",
      "7\n",
      "1\n",
      "3\n",
      "5\n",
      "7\n",
      "9\n",
      "11\n",
      "13\n",
      "15\n",
      "1\n"
     ]
    }
   ],
   "source": [
    "n = 17\n",
    "for x in range(n):\n",
    "    print(josephusCircle(x))"
   ]
  },
  {
   "cell_type": "code",
   "execution_count": null,
   "metadata": {},
   "outputs": [],
   "source": []
  }
 ],
 "metadata": {
  "kernelspec": {
   "display_name": "Python 3",
   "language": "python",
   "name": "python3"
  },
  "language_info": {
   "codemirror_mode": {
    "name": "ipython",
    "version": 3
   },
   "file_extension": ".py",
   "mimetype": "text/x-python",
   "name": "python",
   "nbconvert_exporter": "python",
   "pygments_lexer": "ipython3",
   "version": "3.7.1"
  }
 },
 "nbformat": 4,
 "nbformat_minor": 2
}
