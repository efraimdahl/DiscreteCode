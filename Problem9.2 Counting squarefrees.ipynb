{
 "cells": [
  {
   "cell_type": "code",
   "execution_count": 9,
   "metadata": {},
   "outputs": [
    {
     "name": "stdout",
     "output_type": "stream",
     "text": [
      "[4, 9, 16, 25, 36, 49, 64, 81, 100, 121, 144]\n"
     ]
    }
   ],
   "source": [
    "#returns a list of squares up to 150\n",
    "\n",
    "def sqrs():\n",
    "    lst = []\n",
    "    n = 0;\n",
    "    i = 2;\n",
    "    while(n < 150):\n",
    "        n = i**2\n",
    "        i = i +1\n",
    "        lst.append(n)\n",
    "    #remove the last one since the last on will be larger than 150.\n",
    "    del lst[-1]\n",
    "    return lst\n",
    "sqrslst = sqrs()\n",
    "print (sqrslst)\n",
    "        "
   ]
  },
  {
   "cell_type": "code",
   "execution_count": 18,
   "metadata": {},
   "outputs": [
    {
     "name": "stdout",
     "output_type": "stream",
     "text": [
      "[4, 8, 12, 16, 20, 24, 28, 32, 36, 40, 44, 48, 52, 56, 60, 64, 68, 72, 76, 80, 84, 88, 92, 96, 100, 104, 108, 112, 116, 120, 124, 128, 132, 136, 140, 144, 148, 9, 18, 27, 45, 54, 63, 81, 90, 99, 117, 126, 135, 25, 50, 75, 125, 150, 49, 98, 147, 121]\n"
     ]
    }
   ],
   "source": [
    "#Now for each of the entries, make a list of unique multiples smaller than 150\n",
    "def getMult(sqrs):\n",
    "    mults = []\n",
    "    for item in sqrs:\n",
    "        mult = 0;\n",
    "        i = 1;\n",
    "        #get the multiples of each square...up to including 150\n",
    "        while (mult<=150):\n",
    "            mult = item*i\n",
    "            #make sure it is small enough and also unique in order to avoid double counting\n",
    "            if mult<=150 and mult not in mults:\n",
    "                mults.append(mult)\n",
    "            i = i+1\n",
    "    return mults\n",
    "\n",
    "multlist = getMult(sqrslst)\n",
    "print(multlist)\n",
    "        \n",
    "        "
   ]
  },
  {
   "cell_type": "code",
   "execution_count": 19,
   "metadata": {},
   "outputs": [
    {
     "name": "stdout",
     "output_type": "stream",
     "text": [
      "91\n"
     ]
    }
   ],
   "source": [
    "#All non squarefree numbers are in the multlist, so just subtracting the number of items in the list will give us \n",
    "#the squarefree integers smaller than 150. -1 is a correction number applied because python indexing starts at 0\n",
    "\n",
    "print(150-len(multlist)-1)\n"
   ]
  },
  {
   "cell_type": "code",
   "execution_count": null,
   "metadata": {},
   "outputs": [],
   "source": []
  }
 ],
 "metadata": {
  "kernelspec": {
   "display_name": "Python 3",
   "language": "python",
   "name": "python3"
  },
  "language_info": {
   "codemirror_mode": {
    "name": "ipython",
    "version": 3
   },
   "file_extension": ".py",
   "mimetype": "text/x-python",
   "name": "python",
   "nbconvert_exporter": "python",
   "pygments_lexer": "ipython3",
   "version": "3.7.1"
  }
 },
 "nbformat": 4,
 "nbformat_minor": 2
}
