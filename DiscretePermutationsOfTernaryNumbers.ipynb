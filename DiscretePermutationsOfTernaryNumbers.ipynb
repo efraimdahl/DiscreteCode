{
 "cells": [
  {
   "cell_type": "code",
   "execution_count": 1,
   "metadata": {},
   "outputs": [
    {
     "name": "stdout",
     "output_type": "stream",
     "text": [
      "2\n"
     ]
    }
   ],
   "source": [
    "print(1+1)"
   ]
  },
  {
   "cell_type": "code",
   "execution_count": 62,
   "metadata": {},
   "outputs": [
    {
     "name": "stdout",
     "output_type": "stream",
     "text": [
      "['000', '001', '002', '010', '011', '012', '020', '021', '022', '100', '101', '102', '110', '111', '112', '120', '121', '122', '200', '201', '202', '210', '211', '212', '220', '221', '222']\n"
     ]
    }
   ],
   "source": [
    "#source = https://stackoverflow.com/questions/4928297/all-permutations-of-a-binary-sequence-x-bits-long\n",
    "import itertools\n",
    "def binseq(k):\n",
    "    return [''.join(x) for x in itertools.product('012', repeat=k)]\n",
    "\n",
    "perms = binseq(6)\n",
    "print (perms)"
   ]
  },
  {
   "cell_type": "code",
   "execution_count": 53,
   "metadata": {},
   "outputs": [],
   "source": [
    "def containsrec(permutations):\n",
    "    count = 0\n",
    "    for string in permutations:\n",
    "        lgth = len(string)\n",
    "        i=1\n",
    "        prev = string[0]\n",
    "        while (i<lgth):\n",
    "            if((string[i]!='2') and (string[i]==prev)):\n",
    "                count = count +1\n",
    "                break\n",
    "            else:\n",
    "                prev = string[i]\n",
    "                i = i+1\n",
    "    return count\n",
    "            "
   ]
  },
  {
   "cell_type": "code",
   "execution_count": 79,
   "metadata": {},
   "outputs": [
    {
     "name": "stdout",
     "output_type": "stream",
     "text": [
      "490\n"
     ]
    }
   ],
   "source": [
    "print (containsrec(binseq(6)))"
   ]
  },
  {
   "cell_type": "code",
   "execution_count": 95,
   "metadata": {},
   "outputs": [
    {
     "name": "stdout",
     "output_type": "stream",
     "text": [
      "16320 16320\n"
     ]
    }
   ],
   "source": [
    "def rec(n):\n",
    "    if ((n == 0) or (n == 1)):\n",
    "        return 0\n",
    "    if((n==2)):\n",
    "        return 2\n",
    "    else:\n",
    "        return 2*rec(n-1)+2*(3**(n-2))+rec(n-2)\n",
    "n = 9\n",
    "print(rec(n),(containsrec(binseq(n))))"
   ]
  },
  {
   "cell_type": "code",
   "execution_count": 96,
   "metadata": {},
   "outputs": [
    {
     "ename": "SyntaxError",
     "evalue": "invalid syntax (<ipython-input-96-25f76af4ef28>, line 1)",
     "output_type": "error",
     "traceback": [
      "\u001b[1;36m  File \u001b[1;32m\"<ipython-input-96-25f76af4ef28>\"\u001b[1;36m, line \u001b[1;32m1\u001b[0m\n\u001b[1;33m    def checkrec:\u001b[0m\n\u001b[1;37m                ^\u001b[0m\n\u001b[1;31mSyntaxError\u001b[0m\u001b[1;31m:\u001b[0m invalid syntax\n"
     ]
    }
   ],
   "source": [
    "def checkrec:\n",
    "    n = 0\n",
    "    while(rec(0)==containsrec)"
   ]
  },
  {
   "cell_type": "code",
   "execution_count": null,
   "metadata": {},
   "outputs": [],
   "source": []
  }
 ],
 "metadata": {
  "kernelspec": {
   "display_name": "Python 3",
   "language": "python",
   "name": "python3"
  },
  "language_info": {
   "codemirror_mode": {
    "name": "ipython",
    "version": 3
   },
   "file_extension": ".py",
   "mimetype": "text/x-python",
   "name": "python",
   "nbconvert_exporter": "python",
   "pygments_lexer": "ipython3",
   "version": "3.7.1"
  }
 },
 "nbformat": 4,
 "nbformat_minor": 2
}
